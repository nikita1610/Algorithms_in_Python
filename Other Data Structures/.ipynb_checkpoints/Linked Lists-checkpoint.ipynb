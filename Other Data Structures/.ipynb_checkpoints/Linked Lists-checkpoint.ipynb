{
 "cells": [
  {
   "cell_type": "markdown",
   "metadata": {},
   "source": [
    "##                                                     LINKED LISTS                            "
   ]
  },
  {
   "cell_type": "code",
   "execution_count": 1,
   "metadata": {},
   "outputs": [],
   "source": [
    "class Node:\n",
    "    def __init__(self,value,next=None):\n",
    "        self.data=value\n",
    "        self.next=None"
   ]
  },
  {
   "cell_type": "code",
   "execution_count": 2,
   "metadata": {},
   "outputs": [],
   "source": [
    "class LinkedList:\n",
    "    def __init__(self):\n",
    "        self.head=None\n",
    "    \n",
    "    def printlist(self):\n",
    "        if not self.head:\n",
    "            return\n",
    "        temp=self.head\n",
    "        while(temp):\n",
    "            print(temp.data)\n",
    "            temp=temp.next\n",
    "        \n",
    "    def insert_at_first(self,value):\n",
    "        node = Node(value)\n",
    "        if not self.head:\n",
    "            self.head=node\n",
    "        else:\n",
    "            node.next=self.head\n",
    "            self.head=node\n",
    "    \n",
    "    def insert_at_last(self,value):\n",
    "        node = Node(value)\n",
    "        if not self.head:\n",
    "            self.head=node\n",
    "        else:\n",
    "            temp=self.head\n",
    "            while(temp.next):\n",
    "                temp=temp.next\n",
    "            temp.next=node\n",
    "            \n",
    "    def count_nodes(self):\n",
    "        if not self.head:\n",
    "            return 0\n",
    "        temp=self.head\n",
    "        count=0\n",
    "        while(temp):\n",
    "            count+=1\n",
    "            temp=temp.next\n",
    "        return count\n",
    "    \n",
    "    def search(self,value):\n",
    "        if not self.head:\n",
    "            return \"Not Found\"\n",
    "        if self.head.data==value:\n",
    "            return \"Found\"\n",
    "        temp=self.head\n",
    "        while(temp):\n",
    "            if temp.data==value:\n",
    "                return \"Found\"\n",
    "            temp=temp.next\n",
    "        return \"Not Found\"\n",
    "    \n",
    "    def index_of_node(self,value):\n",
    "        i=0\n",
    "        if not self.head:\n",
    "            return -1\n",
    "        if self.head.data==value:\n",
    "            return i\n",
    "        temp=self.head\n",
    "        while(temp):\n",
    "            i+=1\n",
    "            if temp.data==value:\n",
    "                return i\n",
    "            temp=temp.next\n",
    "        return -1\n",
    "    \n",
    "    def insert_after(self,node,value):\n",
    "        insert_node = Node(value)\n",
    "        if not self.head:\n",
    "            self.head=insert_node\n",
    "        temp=self.head\n",
    "        while(temp.next):\n",
    "            if temp.data==node:\n",
    "                insert_node.next=temp.next\n",
    "                temp.next=insert_node\n",
    "            temp=temp.next\n",
    "    \n",
    "    def delete_head(self):\n",
    "        if not self.head:\n",
    "            return \"Linked list is empty\"\n",
    "        temp=self.head\n",
    "        self.head=temp.next\n",
    "        return temp.data\n",
    "    \n",
    "    def delete_last_node(self):\n",
    "        if not self.head:\n",
    "            return \"Linked List is empty\"\n",
    "        temp=self.head\n",
    "        while(temp.next.next):\n",
    "            temp=temp.next\n",
    "        temp.next=None\n",
    "        \n",
    "    def delete_node(self,value):\n",
    "        if not self.head:\n",
    "            return \"Linked List is empty\"\n",
    "        if self.head.data==value:\n",
    "            self.head=self.head.next\n",
    "            return\n",
    "        temp=self.head\n",
    "        while(temp.next):\n",
    "            if temp.next and  temp.next.data==value:\n",
    "                temp.next=temp.next.next\n",
    "                return\n",
    "            temp=temp.next\n",
    "            \n",
    "\n",
    "    "
   ]
  },
  {
   "cell_type": "code",
   "execution_count": 3,
   "metadata": {},
   "outputs": [],
   "source": [
    "l = LinkedList()"
   ]
  },
  {
   "cell_type": "code",
   "execution_count": 4,
   "metadata": {},
   "outputs": [
    {
     "name": "stdout",
     "output_type": "stream",
     "text": [
      "5\n",
      "6\n"
     ]
    }
   ],
   "source": [
    "l.insert_at_first(6)\n",
    "l.insert_at_first(5)\n",
    "l.printlist()"
   ]
  },
  {
   "cell_type": "code",
   "execution_count": 5,
   "metadata": {},
   "outputs": [
    {
     "name": "stdout",
     "output_type": "stream",
     "text": [
      "5\n",
      "6\n",
      "7\n",
      "9\n"
     ]
    }
   ],
   "source": [
    "l.insert_at_last(7)\n",
    "l.insert_at_last(9)\n",
    "l.printlist()"
   ]
  },
  {
   "cell_type": "code",
   "execution_count": 6,
   "metadata": {},
   "outputs": [
    {
     "data": {
      "text/plain": [
       "4"
      ]
     },
     "execution_count": 6,
     "metadata": {},
     "output_type": "execute_result"
    }
   ],
   "source": [
    "l.count_nodes()"
   ]
  },
  {
   "cell_type": "code",
   "execution_count": 7,
   "metadata": {},
   "outputs": [
    {
     "data": {
      "text/plain": [
       "'Found'"
      ]
     },
     "execution_count": 7,
     "metadata": {},
     "output_type": "execute_result"
    }
   ],
   "source": [
    "l.search(7)"
   ]
  },
  {
   "cell_type": "code",
   "execution_count": 8,
   "metadata": {},
   "outputs": [
    {
     "data": {
      "text/plain": [
       "'Not Found'"
      ]
     },
     "execution_count": 8,
     "metadata": {},
     "output_type": "execute_result"
    }
   ],
   "source": [
    "l.search(3)"
   ]
  },
  {
   "cell_type": "code",
   "execution_count": 9,
   "metadata": {},
   "outputs": [
    {
     "data": {
      "text/plain": [
       "3"
      ]
     },
     "execution_count": 9,
     "metadata": {},
     "output_type": "execute_result"
    }
   ],
   "source": [
    "l.index_of_node(7)"
   ]
  },
  {
   "cell_type": "code",
   "execution_count": 10,
   "metadata": {},
   "outputs": [
    {
     "name": "stdout",
     "output_type": "stream",
     "text": [
      "5\n",
      "6\n",
      "7\n",
      "8\n",
      "9\n"
     ]
    }
   ],
   "source": [
    "l.insert_after(7,8)\n",
    "l.printlist()"
   ]
  },
  {
   "cell_type": "code",
   "execution_count": 11,
   "metadata": {},
   "outputs": [
    {
     "name": "stdout",
     "output_type": "stream",
     "text": [
      "6\n",
      "7\n",
      "8\n",
      "9\n"
     ]
    }
   ],
   "source": [
    "l.delete_head()\n",
    "l.printlist()"
   ]
  },
  {
   "cell_type": "code",
   "execution_count": 12,
   "metadata": {},
   "outputs": [
    {
     "name": "stdout",
     "output_type": "stream",
     "text": [
      "6\n",
      "7\n",
      "8\n"
     ]
    }
   ],
   "source": [
    "l.delete_last_node()\n",
    "l.printlist()"
   ]
  },
  {
   "cell_type": "code",
   "execution_count": 13,
   "metadata": {},
   "outputs": [
    {
     "name": "stdout",
     "output_type": "stream",
     "text": [
      "6\n",
      "7\n"
     ]
    }
   ],
   "source": [
    "l.delete_node(8)\n",
    "l.printlist()"
   ]
  },
  {
   "cell_type": "code",
   "execution_count": null,
   "metadata": {},
   "outputs": [],
   "source": []
  }
 ],
 "metadata": {
  "kernelspec": {
   "display_name": "Python 3",
   "language": "python",
   "name": "python3"
  },
  "language_info": {
   "codemirror_mode": {
    "name": "ipython",
    "version": 3
   },
   "file_extension": ".py",
   "mimetype": "text/x-python",
   "name": "python",
   "nbconvert_exporter": "python",
   "pygments_lexer": "ipython3",
   "version": "3.7.3"
  }
 },
 "nbformat": 4,
 "nbformat_minor": 2
}
