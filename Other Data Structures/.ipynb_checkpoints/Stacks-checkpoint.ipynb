{
 "cells": [
  {
   "cell_type": "markdown",
   "metadata": {},
   "source": [
    "# STACKS IN PYTHON"
   ]
  },
  {
   "cell_type": "markdown",
   "metadata": {},
   "source": [
    "> A Stack is also a type of linear data structure that follows **Last In First Out(LIFO)** pattern.<br>\n",
    "> It is easier to understand stacks by example of pile of books, the book you keep last you need to take out first.\n",
    "> Elements are added and deleted from end only in that way it follows LIFO.\n",
    "> <img src=\"stack.png\" width=400 height=400>"
   ]
  },
  {
   "cell_type": "markdown",
   "metadata": {},
   "source": [
    "> In stack adding and removing elements is mainly referred by two terms **Push and Pop**.<br>\n",
    "> **Push** : Refers to adding elemnts to the last of stack.<br>\n",
    "> **Pop**  : Refers to delete the recently added element from stack."
   ]
  },
  {
   "cell_type": "markdown",
   "metadata": {},
   "source": [
    "## Stacks using List"
   ]
  },
  {
   "cell_type": "code",
   "execution_count": 5,
   "metadata": {},
   "outputs": [
    {
     "name": "stdout",
     "output_type": "stream",
     "text": [
      "Contents of stack are:\n",
      "['a', 'b', 'c']\n",
      "\n",
      "Size of stack is:\n",
      "3\n",
      "\n",
      "\n",
      "After popping all elements one by one\n",
      "c\n",
      "b\n",
      "a\n",
      "\n",
      "Stack after elements are poped:\n",
      "[]\n"
     ]
    }
   ],
   "source": [
    "stack = [] # an empty list\n",
    " \n",
    "# append function adds element at last\n",
    "stack.append('a')\n",
    "stack.append('b')\n",
    "stack.append('c')\n",
    " \n",
    "#contents of stack\n",
    "print(\"Contents of stack are:\")\n",
    "print(stack)\n",
    "\n",
    "#size of stack\n",
    "print(\"\\nSize of stack is:\")\n",
    "print(len(stack))\n",
    "print('\\n')\n",
    " \n",
    "# by default pop removes last element if no index is specified\n",
    "print(\"After popping all elements one by one\")\n",
    "print(stack.pop())\n",
    "print(stack.pop())\n",
    "print(stack.pop())\n",
    " \n",
    "print('\\nStack after elements are poped:')\n",
    "print(stack)"
   ]
  },
  {
   "cell_type": "markdown",
   "metadata": {},
   "source": [
    "## Stack using deque"
   ]
  },
  {
   "cell_type": "code",
   "execution_count": 4,
   "metadata": {},
   "outputs": [
    {
     "name": "stdout",
     "output_type": "stream",
     "text": [
      "\n",
      "Contents of stack after all elements are inserted:\n",
      "deque(['H', 1, 'c'])\n",
      "\n",
      "Length of stack is: 3\n",
      "\n",
      "Elements poped from stack:\n",
      "c\n",
      "1\n",
      "H\n",
      "\n",
      "Stack after all elements are poped:\n",
      "deque([])\n"
     ]
    }
   ],
   "source": [
    "from collections import deque\n",
    " \n",
    "s = deque()\n",
    " \n",
    "s.append('H')\n",
    "s.append(1)\n",
    "s.append('c')\n",
    " \n",
    "print('\\nContents of stack after all elements are inserted:')\n",
    "print(s)\n",
    " \n",
    "print(\"\\nLength of stack is: \"+str(len(s)))\n",
    "print('\\nElements poped from stack:')\n",
    "print(s.pop())\n",
    "print(s.pop())\n",
    "print(s.pop())\n",
    " \n",
    "print('\\nStack after all elements are poped:')\n",
    "print(s)"
   ]
  },
  {
   "cell_type": "markdown",
   "metadata": {},
   "source": [
    "## Stack using queue module"
   ]
  },
  {
   "cell_type": "code",
   "execution_count": null,
   "metadata": {},
   "outputs": [],
   "source": []
  }
 ],
 "metadata": {
  "kernelspec": {
   "display_name": "Python 3",
   "language": "python",
   "name": "python3"
  },
  "language_info": {
   "codemirror_mode": {
    "name": "ipython",
    "version": 3
   },
   "file_extension": ".py",
   "mimetype": "text/x-python",
   "name": "python",
   "nbconvert_exporter": "python",
   "pygments_lexer": "ipython3",
   "version": "3.7.3"
  }
 },
 "nbformat": 4,
 "nbformat_minor": 2
}
