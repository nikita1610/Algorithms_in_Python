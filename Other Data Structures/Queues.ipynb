{
 "cells": [
  {
   "cell_type": "markdown",
   "metadata": {},
   "source": [
    "# QUEUES IN PYTHON"
   ]
  },
  {
   "cell_type": "markdown",
   "metadata": {},
   "source": [
    "> A Queue is also a type of linear data structure that follows **First In First Out(FIFO)** pattern.<br>\n",
    "> It is easier to understand stacks by example of people standing t buy tickets, the person who comes first gets the ticket first and then leaves\n",
    "> Elements are added  at rear and deleted from front and in this way it follows FIFO.\n",
    "> <img src=\"queues.png\" width=400 height=400>"
   ]
  },
  {
   "cell_type": "markdown",
   "metadata": {},
   "source": [
    "> In queues adding and removing elements is mainly referred by two terms **Enqueue and Dequeue** <br>\n",
    "> **Enqueue** : Refers to adding elements to the last of queue <br>\n",
    "> **Dequeue**  : Refers to delete the front element from queue."
   ]
  },
  {
   "cell_type": "markdown",
   "metadata": {},
   "source": [
    "## Queues using List"
   ]
  },
  {
   "cell_type": "code",
   "execution_count": 5,
   "metadata": {},
   "outputs": [
    {
     "name": "stdout",
     "output_type": "stream",
     "text": [
      "Length of queue at begining: 0\n",
      "\n",
      "Initial queue\n",
      "['a', 'b', 'c']\n",
      "\n",
      "Length of queue after inserting all elements: 3\n",
      "\n",
      "Elements dequeued from queue\n",
      "a\n",
      "b\n",
      "c\n",
      "\n",
      "Queue after removing elements\n",
      "[]\n"
     ]
    }
   ],
   "source": [
    "queue = []\n",
    " \n",
    "# Adding elements to the queue\n",
    "print(\"Length of queue at begining: \"+str(len(queue)))\n",
    "queue.append('a')\n",
    "queue.append('b')\n",
    "queue.append('c')\n",
    " \n",
    "print(\"\\nInitial queue\")\n",
    "print(queue)\n",
    "\n",
    "print(\"\\nLength of queue after inserting all elements: \"+str(len(queue)))\n",
    " \n",
    "# Removing elements from the queue\n",
    "print(\"\\nElements dequeued from queue\")\n",
    "print(queue.pop(0))\n",
    "print(queue.pop(0))\n",
    "print(queue.pop(0))\n",
    " \n",
    "print(\"\\nQueue after removing elements\")\n",
    "print(queue)"
   ]
  },
  {
   "cell_type": "code",
   "execution_count": null,
   "metadata": {},
   "outputs": [],
   "source": []
  }
 ],
 "metadata": {
  "kernelspec": {
   "display_name": "Python 3",
   "language": "python",
   "name": "python3"
  },
  "language_info": {
   "codemirror_mode": {
    "name": "ipython",
    "version": 3
   },
   "file_extension": ".py",
   "mimetype": "text/x-python",
   "name": "python",
   "nbconvert_exporter": "python",
   "pygments_lexer": "ipython3",
   "version": "3.7.3"
  }
 },
 "nbformat": 4,
 "nbformat_minor": 2
}
